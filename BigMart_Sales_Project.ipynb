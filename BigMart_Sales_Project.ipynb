{
 "cells": [
  {
   "cell_type": "code",
   "execution_count": null,
   "metadata": {
    "id": "QJD7wzH-2clt"
   },
   "outputs": [],
   "source": [
    "# Import required libraries\n",
    "\n",
    "import numpy as np\n",
    "import pandas as pd\n",
    "import matplotlib.pyplot as plt\n",
    "import seaborn as sns"
   ]
  },
  {
   "cell_type": "markdown",
   "metadata": {
    "id": "dAaSukOY54pb"
   },
   "source": [
    "## Load the dataset"
   ]
  },
  {
   "cell_type": "code",
   "execution_count": null,
   "metadata": {
    "id": "jQtPsU8q5PFZ"
   },
   "outputs": [],
   "source": [
    "df = pd.read_csv(\"BigMart_sales.csv\")"
   ]
  },
  {
   "cell_type": "code",
   "execution_count": null,
   "metadata": {
    "colab": {
     "base_uri": "https://localhost:8080/",
     "height": 313
    },
    "executionInfo": {
     "elapsed": 17,
     "status": "ok",
     "timestamp": 1718245644172,
     "user": {
      "displayName": "Srushith Kumar Donthoju",
      "userId": "14576840901732490377"
     },
     "user_tz": -330
    },
    "id": "vcxYTB6CfIbD",
    "outputId": "2153200e-f916-4ed7-e064-88bd9b723c93"
   },
   "outputs": [],
   "source": [
    "# check the data avaiable in the dataset\n",
    "df.head()"
   ]
  },
  {
   "cell_type": "markdown",
   "metadata": {
    "id": "6gRM_EHT5-ee"
   },
   "source": [
    "## Exploratory Data Analysis"
   ]
  },
  {
   "cell_type": "markdown",
   "metadata": {
    "id": "RSIt1Zhx6PN-"
   },
   "source": [
    "### Check shape of the dataset:\n",
    "\n",
    "* It is a good idea to first check the shape of the dataset."
   ]
  },
  {
   "cell_type": "code",
   "execution_count": null,
   "metadata": {
    "colab": {
     "base_uri": "https://localhost:8080/"
    },
    "executionInfo": {
     "elapsed": 15,
     "status": "ok",
     "timestamp": 1718245645434,
     "user": {
      "displayName": "Srushith Kumar Donthoju",
      "userId": "14576840901732490377"
     },
     "user_tz": -330
    },
    "id": "tv7ErF5HfK7A",
    "outputId": "3c4afaf3-9a73-41c4-c2ff-b4338d8266b6"
   },
   "outputs": [],
   "source": [
    "# print the shape\n",
    "print('The shape of the dataset : ', df.shape)"
   ]
  },
  {
   "cell_type": "markdown",
   "metadata": {
    "id": "U-zAJITK6YC3"
   },
   "source": [
    "Now, we can see that the dataset contains 8523 rows and 12 columns."
   ]
  },
  {
   "cell_type": "markdown",
   "metadata": {
    "id": "_gRSzqCM6i_F"
   },
   "source": [
    "### Summary of dataset"
   ]
  },
  {
   "cell_type": "code",
   "execution_count": null,
   "metadata": {
    "colab": {
     "base_uri": "https://localhost:8080/"
    },
    "executionInfo": {
     "elapsed": 11,
     "status": "ok",
     "timestamp": 1718245648255,
     "user": {
      "displayName": "Srushith Kumar Donthoju",
      "userId": "14576840901732490377"
     },
     "user_tz": -330
    },
    "id": "f5YUk80K6Tz0",
    "outputId": "663e10a9-bef3-4e45-b4c0-89980ff30a90"
   },
   "outputs": [],
   "source": [
    "# summary of dataset\n",
    "df.info()"
   ]
  },
  {
   "cell_type": "markdown",
   "metadata": {
    "id": "Zq2Klsuo7FAS"
   },
   "source": [
    "### Check the data types of columns\n",
    "* The above df.info() command gives us the number of filled values along with the data types of columns.\n",
    "\n",
    "* If we simply want to check the data type of a particular column, we can use the following command."
   ]
  },
  {
   "cell_type": "code",
   "execution_count": null,
   "metadata": {
    "colab": {
     "base_uri": "https://localhost:8080/"
    },
    "executionInfo": {
     "elapsed": 4,
     "status": "ok",
     "timestamp": 1718245651476,
     "user": {
      "displayName": "Srushith Kumar Donthoju",
      "userId": "14576840901732490377"
     },
     "user_tz": -330
    },
    "id": "7I_YcxH36nR8",
    "outputId": "1e00f297-10ba-4bbe-a27b-2b98318c03e3"
   },
   "outputs": [],
   "source": [
    "# datatypes of columns\n",
    "df.dtypes"
   ]
  },
  {
   "cell_type": "markdown",
   "metadata": {
    "id": "YwLgNLUE7Xp6"
   },
   "source": [
    "### Statistical properties of dataset"
   ]
  },
  {
   "cell_type": "code",
   "execution_count": null,
   "metadata": {
    "colab": {
     "base_uri": "https://localhost:8080/",
     "height": 300
    },
    "executionInfo": {
     "elapsed": 15,
     "status": "ok",
     "timestamp": 1718245652221,
     "user": {
      "displayName": "Srushith Kumar Donthoju",
      "userId": "14576840901732490377"
     },
     "user_tz": -330
    },
    "id": "P7RjEe0b7IPs",
    "outputId": "558a9533-0391-438d-f278-77356def3ec7"
   },
   "outputs": [],
   "source": [
    "# statistical properties of dataset\n",
    "df.describe()"
   ]
  },
  {
   "cell_type": "markdown",
   "metadata": {
    "id": "lDHL7LK97t8X"
   },
   "source": [
    "**Important points to note**\n",
    "1. The above command df.describe() helps us to view the statistical properties of numerical variables. It excludes character variables.\n",
    "\n",
    "2. If we want to view the statistical properties of character variables, we should run the following command -\n",
    "\n",
    "`df.describe(include=['object'])`\n",
    "\n",
    "3. If we want to view the statistical properties of all the variables, we should run the following command -\n",
    "\n",
    "`df.describe(include='all')`"
   ]
  },
  {
   "cell_type": "code",
   "execution_count": null,
   "metadata": {
    "colab": {
     "base_uri": "https://localhost:8080/",
     "height": 432
    },
    "executionInfo": {
     "elapsed": 9,
     "status": "ok",
     "timestamp": 1718245652785,
     "user": {
      "displayName": "Srushith Kumar Donthoju",
      "userId": "14576840901732490377"
     },
     "user_tz": -330
    },
    "id": "USjOzkNU-7W_",
    "outputId": "a11f309a-ae61-40e9-9e69-5284e17ce9ec"
   },
   "outputs": [],
   "source": [
    "df.describe(include='all')"
   ]
  },
  {
   "cell_type": "markdown",
   "metadata": {
    "id": "2xW59rDi77O0"
   },
   "source": [
    "### View column names"
   ]
  },
  {
   "cell_type": "code",
   "execution_count": null,
   "metadata": {
    "colab": {
     "base_uri": "https://localhost:8080/"
    },
    "executionInfo": {
     "elapsed": 9,
     "status": "ok",
     "timestamp": 1718245655578,
     "user": {
      "displayName": "Srushith Kumar Donthoju",
      "userId": "14576840901732490377"
     },
     "user_tz": -330
    },
    "id": "Sy2ju8ST7k8B",
    "outputId": "a1a56a9f-b1cd-4c1c-bcf7-3d474690d80f"
   },
   "outputs": [],
   "source": [
    "# columns\n",
    "df.columns"
   ]
  },
  {
   "cell_type": "markdown",
   "metadata": {
    "id": "wEJ5OGvT_kL2"
   },
   "source": [
    "Here, the target variable is Item_Outlet_Sales."
   ]
  },
  {
   "cell_type": "code",
   "execution_count": null,
   "metadata": {
    "colab": {
     "base_uri": "https://localhost:8080/"
    },
    "executionInfo": {
     "elapsed": 7,
     "status": "ok",
     "timestamp": 1718245656124,
     "user": {
      "displayName": "Srushith Kumar Donthoju",
      "userId": "14576840901732490377"
     },
     "user_tz": -330
    },
    "id": "lwov9HqzauDz",
    "outputId": "5cc91c10-a8cc-4cb2-bb2d-94ae59093b6a"
   },
   "outputs": [],
   "source": [
    "# Check Duplicates\n",
    "df.duplicated().sum()"
   ]
  },
  {
   "cell_type": "markdown",
   "metadata": {
    "id": "BkXEY-0JAzo2"
   },
   "source": [
    "### Missing values"
   ]
  },
  {
   "cell_type": "code",
   "execution_count": null,
   "metadata": {
    "colab": {
     "base_uri": "https://localhost:8080/"
    },
    "executionInfo": {
     "elapsed": 438,
     "status": "ok",
     "timestamp": 1718245659123,
     "user": {
      "displayName": "Srushith Kumar Donthoju",
      "userId": "14576840901732490377"
     },
     "user_tz": -330
    },
    "id": "WkfqmUp_AUnG",
    "outputId": "398e847a-d693-41a0-ee10-4cd081d87d4e"
   },
   "outputs": [],
   "source": [
    "df.isnull().sum()"
   ]
  },
  {
   "cell_type": "code",
   "execution_count": null,
   "metadata": {
    "colab": {
     "base_uri": "https://localhost:8080/"
    },
    "executionInfo": {
     "elapsed": 5,
     "status": "ok",
     "timestamp": 1718245660670,
     "user": {
      "displayName": "Srushith Kumar Donthoju",
      "userId": "14576840901732490377"
     },
     "user_tz": -330
    },
    "id": "7oMpTHi_gsnc",
    "outputId": "3d89d78c-78a6-4cc5-fb84-a4915fd4f525"
   },
   "outputs": [],
   "source": [
    "# Calculate the percentage of missing values\n",
    "missing_percentage = (df.isnull().sum() / len(df)) * 100\n",
    "\n",
    "# Print the result\n",
    "print(missing_percentage)"
   ]
  },
  {
   "cell_type": "code",
   "execution_count": null,
   "metadata": {
    "colab": {
     "base_uri": "https://localhost:8080/",
     "height": 410
    },
    "executionInfo": {
     "elapsed": 947,
     "status": "ok",
     "timestamp": 1718245662096,
     "user": {
      "displayName": "Srushith Kumar Donthoju",
      "userId": "14576840901732490377"
     },
     "user_tz": -330
    },
    "id": "D4sPW61lA-mO",
    "outputId": "e5ea8861-983f-4e08-8f05-c9792d216b8f"
   },
   "outputs": [],
   "source": [
    "# Distribution of Item_Weight\n",
    "plt.figure(figsize=(6, 4))\n",
    "sns.histplot(df['Item_Weight'], kde=True, bins=30)\n",
    "plt.title('Distribution of Item Weight')\n",
    "plt.xlabel('Item Weight')\n",
    "plt.ylabel('Frequency')\n",
    "plt.show()"
   ]
  },
  {
   "cell_type": "code",
   "execution_count": null,
   "metadata": {
    "colab": {
     "base_uri": "https://localhost:8080/",
     "height": 410
    },
    "executionInfo": {
     "elapsed": 1003,
     "status": "ok",
     "timestamp": 1718245665869,
     "user": {
      "displayName": "Srushith Kumar Donthoju",
      "userId": "14576840901732490377"
     },
     "user_tz": -330
    },
    "id": "cRgDhV2ULOvF",
    "outputId": "327d20c6-df9a-41cb-dcaa-efa6b77bf1bb"
   },
   "outputs": [],
   "source": [
    "# Distribution of Outlet_Size\n",
    "plt.figure(figsize=(6, 4))\n",
    "sns.countplot(df['Outlet_Size'])\n",
    "plt.title('Distribution of Item Outlet Size')\n",
    "plt.xlabel('Outlet_Size')\n",
    "plt.ylabel('Frequency')\n",
    "plt.show()"
   ]
  },
  {
   "cell_type": "markdown",
   "metadata": {
    "id": "EzrOC_40NeGj"
   },
   "source": [
    "Here, the data is uniformly distributed. Directly imputing 1463, 2410 missing values with the mean or median in numerical column and mode in categorical column would introduce bias into the dataset.\n",
    "\n",
    "One potential solution is to use a more advanced imputation technique such as K-nearest neighbors (KNN) imputation. With KNN imputation, missing values are filled based on the values of the nearest neighbors in the feature space."
   ]
  },
  {
   "cell_type": "markdown",
   "metadata": {
    "id": "Ec_0ViBSPe7Q"
   },
   "source": [
    "You will learn these topics in future classes. For now, we will move on to the next steps of the EDA."
   ]
  },
  {
   "cell_type": "markdown",
   "metadata": {
    "id": "obfZF-oyoj7t"
   },
   "source": [
    "## Univariate Analysis"
   ]
  },
  {
   "cell_type": "markdown",
   "metadata": {
    "id": "Ru4dNqNA_tBF"
   },
   "source": [
    "### Distribution of Target Variable"
   ]
  },
  {
   "cell_type": "code",
   "execution_count": null,
   "metadata": {
    "colab": {
     "base_uri": "https://localhost:8080/",
     "height": 410
    },
    "executionInfo": {
     "elapsed": 953,
     "status": "ok",
     "timestamp": 1718245670191,
     "user": {
      "displayName": "Srushith Kumar Donthoju",
      "userId": "14576840901732490377"
     },
     "user_tz": -330
    },
    "id": "zYgxWi4-8B0w",
    "outputId": "c6d14692-1ccc-4783-e318-f6c3ed3814d0"
   },
   "outputs": [],
   "source": [
    "# Distribution of Item_Outlet_Sales\n",
    "plt.figure(figsize=(6, 4))\n",
    "sns.histplot(df['Item_Outlet_Sales'], kde=True, bins=30)\n",
    "plt.title('Distribution of Item Outlet Sales')\n",
    "plt.xlabel('Item_Outlet_Sales')\n",
    "plt.ylabel('Frequency')\n",
    "plt.show()"
   ]
  },
  {
   "cell_type": "markdown",
   "metadata": {
    "id": "-LONnVBwfAdK"
   },
   "source": [
    "You can observe the above distribution is right skewed."
   ]
  },
  {
   "cell_type": "markdown",
   "metadata": {
    "id": "8XQRd9L3jlpj"
   },
   "source": [
    "Now, try to find the number of distinct values in all the columns."
   ]
  },
  {
   "cell_type": "code",
   "execution_count": null,
   "metadata": {
    "colab": {
     "base_uri": "https://localhost:8080/"
    },
    "executionInfo": {
     "elapsed": 477,
     "status": "ok",
     "timestamp": 1718245717269,
     "user": {
      "displayName": "Srushith Kumar Donthoju",
      "userId": "14576840901732490377"
     },
     "user_tz": -330
    },
    "id": "Z7Z84ydChfv7",
    "outputId": "505f1c98-240d-4263-9cfd-bd540f142482"
   },
   "outputs": [],
   "source": [
    "# Number of distinct elements in each column\n",
    "df.nunique()"
   ]
  },
  {
   "cell_type": "code",
   "execution_count": null,
   "metadata": {
    "colab": {
     "base_uri": "https://localhost:8080/"
    },
    "executionInfo": {
     "elapsed": 457,
     "status": "ok",
     "timestamp": 1718245776073,
     "user": {
      "displayName": "Srushith Kumar Donthoju",
      "userId": "14576840901732490377"
     },
     "user_tz": -330
    },
    "id": "sTgF8VyTbbUn",
    "outputId": "7b52a390-03f6-4639-ec5e-bfd72b91ce3d"
   },
   "outputs": [],
   "source": [
    "# Value counts of all columns\n",
    "for i in df.columns:\n",
    "  print(df[i].value_counts())"
   ]
  },
  {
   "cell_type": "markdown",
   "metadata": {
    "id": "IYaU9mimbm8v"
   },
   "source": [
    "Something is odd in Item_Fat_Content. Explore the Item_Fat_Content column seperately."
   ]
  },
  {
   "cell_type": "code",
   "execution_count": null,
   "metadata": {
    "colab": {
     "base_uri": "https://localhost:8080/"
    },
    "executionInfo": {
     "elapsed": 487,
     "status": "ok",
     "timestamp": 1718245849173,
     "user": {
      "displayName": "Srushith Kumar Donthoju",
      "userId": "14576840901732490377"
     },
     "user_tz": -330
    },
    "id": "_GI85pLNbiQK",
    "outputId": "6351144f-34f6-4a6f-fcff-5154992597b2"
   },
   "outputs": [],
   "source": [
    "# Value counts of Item_Fat_Content column\n",
    "df['Item_Fat_Content'].value_counts()"
   ]
  },
  {
   "cell_type": "markdown",
   "metadata": {
    "id": "UYPWpMhfbzMs"
   },
   "source": [
    "Correct the spelling mistakes of the Low Fat and Regular categories."
   ]
  },
  {
   "cell_type": "code",
   "execution_count": null,
   "metadata": {
    "id": "Es5awQ1ib8X2"
   },
   "outputs": [],
   "source": [
    "# Modidy 'LF' to 'Low Fat', 'low fat' to 'Low Fat' and 'reg' = 'Regular'\n",
    "df['Item_Fat_Content'] = df['Item_Fat_Content'].replace({'LF': 'Low Fat', 'low fat': 'Low Fat', 'reg': 'Regular'})"
   ]
  },
  {
   "cell_type": "code",
   "execution_count": null,
   "metadata": {
    "colab": {
     "base_uri": "https://localhost:8080/"
    },
    "executionInfo": {
     "elapsed": 10,
     "status": "ok",
     "timestamp": 1718246013467,
     "user": {
      "displayName": "Srushith Kumar Donthoju",
      "userId": "14576840901732490377"
     },
     "user_tz": -330
    },
    "id": "VBa6V1pWcPdk",
    "outputId": "108aae92-4026-40e7-af0a-e5bb69e0b37c"
   },
   "outputs": [],
   "source": [
    "# Check the Item_Fat_Content value counts\n",
    "df['Item_Fat_Content'].value_counts()"
   ]
  },
  {
   "cell_type": "markdown",
   "metadata": {
    "id": "wUUEU_WflWN9"
   },
   "source": [
    "### Categorical Variable Analysis"
   ]
  },
  {
   "cell_type": "code",
   "execution_count": null,
   "metadata": {
    "colab": {
     "base_uri": "https://localhost:8080/",
     "height": 1000
    },
    "executionInfo": {
     "elapsed": 2459,
     "status": "ok",
     "timestamp": 1718246032790,
     "user": {
      "displayName": "Srushith Kumar Donthoju",
      "userId": "14576840901732490377"
     },
     "user_tz": -330
    },
    "id": "BuRFhNovhm0O",
    "outputId": "ba3ef191-6bc8-4328-afd4-8655ee21adcf"
   },
   "outputs": [],
   "source": [
    "# Count plots for categorical variables\n",
    "categorical_columns = ['Item_Fat_Content', 'Item_Type', 'Outlet_Identifier', 'Outlet_Size', 'Outlet_Location_Type', 'Outlet_Type']\n",
    "\n",
    "for col in categorical_columns:\n",
    "    plt.figure(figsize=(6, 4))\n",
    "    sns.countplot(x=df[col])\n",
    "    plt.title(f'Count Plot of {col}')\n",
    "    plt.xticks(rotation=90)\n",
    "    plt.show()\n"
   ]
  },
  {
   "cell_type": "markdown",
   "metadata": {
    "id": "Qn5O-iKknqAU"
   },
   "source": [
    "## Bivariate Analysis"
   ]
  },
  {
   "cell_type": "markdown",
   "metadata": {
    "id": "ANWQBahEntT0"
   },
   "source": [
    "### Correlation Heatmap"
   ]
  },
  {
   "cell_type": "code",
   "execution_count": null,
   "metadata": {
    "colab": {
     "base_uri": "https://localhost:8080/",
     "height": 716
    },
    "executionInfo": {
     "elapsed": 871,
     "status": "ok",
     "timestamp": 1718246058531,
     "user": {
      "displayName": "Srushith Kumar Donthoju",
      "userId": "14576840901732490377"
     },
     "user_tz": -330
    },
    "id": "bgVMu420lZFW",
    "outputId": "1161d9c4-f980-4e4d-9894-a6ed9e158862"
   },
   "outputs": [],
   "source": [
    "# Filter out non-numeric columns\n",
    "numeric_df = df.select_dtypes(include=['float64', 'int64'])\n",
    "\n",
    "# Correlation matrix\n",
    "plt.figure(figsize=(6, 6))\n",
    "correlation_matrix = numeric_df.corr()\n",
    "sns.heatmap(correlation_matrix, annot=True)\n",
    "plt.title('Correlation Heatmap')\n",
    "plt.show()\n"
   ]
  },
  {
   "cell_type": "markdown",
   "metadata": {
    "id": "BoXUG1xKn4mY"
   },
   "source": [
    "### Item_Weight vs Item_Outlet_Sales"
   ]
  },
  {
   "cell_type": "code",
   "execution_count": null,
   "metadata": {
    "colab": {
     "base_uri": "https://localhost:8080/",
     "height": 410
    },
    "executionInfo": {
     "elapsed": 1237,
     "status": "ok",
     "timestamp": 1718246062369,
     "user": {
      "displayName": "Srushith Kumar Donthoju",
      "userId": "14576840901732490377"
     },
     "user_tz": -330
    },
    "id": "SfBi03AlmYfl",
    "outputId": "b07c1cd1-e6e2-433f-b8ad-e04ec81ad3fc"
   },
   "outputs": [],
   "source": [
    "# Scatter plot\n",
    "plt.figure(figsize=(6, 4))\n",
    "sns.scatterplot(x='Item_Weight', y='Item_Outlet_Sales', data=df)\n",
    "plt.title('Item Weight vs Item Outlet Sales')\n",
    "plt.xlabel('Item_Weight')\n",
    "plt.ylabel('Item_Outlet_Sales')\n",
    "plt.show()"
   ]
  },
  {
   "cell_type": "markdown",
   "metadata": {
    "id": "CKSD2R1JoG6Q"
   },
   "source": [
    "### Item_MRP vs Item_Outlet_Sales"
   ]
  },
  {
   "cell_type": "code",
   "execution_count": null,
   "metadata": {
    "colab": {
     "base_uri": "https://localhost:8080/",
     "height": 410
    },
    "executionInfo": {
     "elapsed": 1143,
     "status": "ok",
     "timestamp": 1718246069167,
     "user": {
      "displayName": "Srushith Kumar Donthoju",
      "userId": "14576840901732490377"
     },
     "user_tz": -330
    },
    "id": "W9HKvvcjn8Jm",
    "outputId": "b8e8e68f-8633-4625-b6ad-6a09abedbc8c"
   },
   "outputs": [],
   "source": [
    "# Scatter plot\n",
    "plt.figure(figsize=(6, 4))\n",
    "sns.scatterplot(x='Item_MRP', y='Item_Outlet_Sales', data=df)\n",
    "plt.title('Item MRP vs Item Outlet Sales')\n",
    "plt.xlabel('Item_MRP')\n",
    "plt.ylabel('Item_Outlet_Sales')\n",
    "plt.show()"
   ]
  },
  {
   "cell_type": "markdown",
   "metadata": {
    "id": "GMmp74dpoTyI"
   },
   "source": [
    "### Categorical Variables vs Item_Outlet_Sales"
   ]
  },
  {
   "cell_type": "code",
   "execution_count": null,
   "metadata": {
    "colab": {
     "base_uri": "https://localhost:8080/",
     "height": 1000
    },
    "executionInfo": {
     "elapsed": 4275,
     "status": "ok",
     "timestamp": 1718246076881,
     "user": {
      "displayName": "Srushith Kumar Donthoju",
      "userId": "14576840901732490377"
     },
     "user_tz": -330
    },
    "id": "TWR0BHC6oKuC",
    "outputId": "8e0e90bf-59e0-4873-8e57-c4e82a9d80d2"
   },
   "outputs": [],
   "source": [
    "# Box plots for categorical variables\n",
    "for col in categorical_columns:\n",
    "    plt.figure(figsize=(6, 4))\n",
    "    sns.boxplot(x=df[col], y=df['Item_Outlet_Sales'])\n",
    "    plt.title(f'{col} vs Item Outlet Sales')\n",
    "    plt.xticks(rotation=90)\n",
    "    plt.show()"
   ]
  },
  {
   "cell_type": "markdown",
   "metadata": {
    "id": "rE3QteGtoyZX"
   },
   "source": [
    "## Multivariate Analysis"
   ]
  },
  {
   "cell_type": "markdown",
   "metadata": {
    "id": "MeXuA_R8o1P3"
   },
   "source": [
    "### Pairplot"
   ]
  },
  {
   "cell_type": "code",
   "execution_count": null,
   "metadata": {
    "colab": {
     "base_uri": "https://localhost:8080/",
     "height": 958
    },
    "executionInfo": {
     "elapsed": 6719,
     "status": "ok",
     "timestamp": 1718246096421,
     "user": {
      "displayName": "Srushith Kumar Donthoju",
      "userId": "14576840901732490377"
     },
     "user_tz": -330
    },
    "id": "E41uRvBEoc3R",
    "outputId": "5ceadd69-e41e-45a5-d009-fbe44b6f39db"
   },
   "outputs": [],
   "source": [
    "# Pairplot for selected features\n",
    "selected_features = ['Item_Weight', 'Item_Visibility', 'Item_MRP', 'Item_Outlet_Sales']\n",
    "sns.pairplot(df[selected_features])\n",
    "plt.show()\n"
   ]
  },
  {
   "cell_type": "markdown",
   "metadata": {
    "id": "ziMW_0NlpQSD"
   },
   "source": [
    "### Multivariate Analysis with Categorical Variables"
   ]
  },
  {
   "cell_type": "code",
   "execution_count": null,
   "metadata": {
    "colab": {
     "base_uri": "https://localhost:8080/",
     "height": 1000
    },
    "executionInfo": {
     "elapsed": 3155,
     "status": "ok",
     "timestamp": 1718246101122,
     "user": {
      "displayName": "Srushith Kumar Donthoju",
      "userId": "14576840901732490377"
     },
     "user_tz": -330
    },
    "id": "aEc98X_Do4J3",
    "outputId": "4a9c23f5-21a0-4481-bc62-36b055e5a1cf"
   },
   "outputs": [],
   "source": [
    "# Using groupby to see the mean sales by different categories\n",
    "for col in categorical_columns:\n",
    "    grouped_data = df.groupby(col)['Item_Outlet_Sales'].mean().reset_index()\n",
    "    plt.figure(figsize=( 6, 4))\n",
    "    sns.barplot(x=col, y='Item_Outlet_Sales', data=grouped_data)\n",
    "    plt.title(f'Mean Item Outlet Sales by {col}')\n",
    "    plt.xticks(rotation=90)\n",
    "    plt.show()\n"
   ]
  },
  {
   "cell_type": "code",
   "execution_count": null,
   "metadata": {
    "id": "WN7bQiwDavy8"
   },
   "outputs": [],
   "source": []
  }
 ],
 "metadata": {
  "colab": {
   "authorship_tag": "ABX9TyNh35Udx8DZw2IlNVDR4UCc",
   "provenance": []
  },
  "kernelspec": {
   "display_name": "Python 3 (ipykernel)",
   "language": "python",
   "name": "python3"
  },
  "language_info": {
   "codemirror_mode": {
    "name": "ipython",
    "version": 3
   },
   "file_extension": ".py",
   "mimetype": "text/x-python",
   "name": "python",
   "nbconvert_exporter": "python",
   "pygments_lexer": "ipython3",
   "version": "3.11.5"
  }
 },
 "nbformat": 4,
 "nbformat_minor": 1
}
