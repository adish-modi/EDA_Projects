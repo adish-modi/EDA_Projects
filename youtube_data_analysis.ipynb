{
  "metadata": {
    "kaggle": {
      "accelerator": "none",
      "dataSources": [
        {
          "sourceId": 6211042,
          "sourceType": "datasetVersion",
          "datasetId": 3566603
        }
      ],
      "dockerImageVersionId": 30646,
      "isInternetEnabled": false,
      "language": "python",
      "sourceType": "notebook",
      "isGpuEnabled": false
    },
    "kernelspec": {
      "name": "python3",
      "display_name": "Python 3",
      "language": "python"
    },
    "language_info": {
      "name": "python",
      "version": "3.10.13",
      "mimetype": "text/x-python",
      "codemirror_mode": {
        "name": "ipython",
        "version": 3
      },
      "pygments_lexer": "ipython3",
      "nbconvert_exporter": "python",
      "file_extension": ".py"
    },
    "colab": {
      "provenance": []
    }
  },
  "nbformat_minor": 0,
  "nbformat": 4,
  "cells": [
    {
      "cell_type": "markdown",
      "source": [
        "### The objective of this case study is to look for insights through visualization and provide guidance for those who want to reach among top YouTube channels.\n",
        "\n",
        "We will be looking into the following:\n",
        "\n",
        "Which channels are the most popular?\n",
        "\n",
        "Which categories are the highest earning?\n",
        "\n",
        "Which  are the fastest growing channel types?"
      ],
      "metadata": {
        "id": "jaWFU50dbX7F",
        "_kg_hide-output": false
      }
    },
    {
      "cell_type": "code",
      "source": [
        "# Importing the libraries\n",
        "\n",
        "import numpy as np\n",
        "\n",
        "import pandas as pd\n",
        "\n",
        "import seaborn as sns\n",
        "\n",
        "import matplotlib.pyplot as plt"
      ],
      "metadata": {
        "_cell_guid": "b1076dfc-b9ad-4769-8c92-a6c4dae69d19",
        "_uuid": "8f2839f25d086af736a60e9eeb907d3b93b6e0e5",
        "id": "ZYeRgXO4bX7a",
        "trusted": true
      },
      "execution_count": 1,
      "outputs": []
    },
    {
      "cell_type": "code",
      "source": [
        "# Loading the csv into pandas DataFrame\n",
        "\n",
        "df = pd.read_csv(\"/content/Global YouTube Statistics.csv\", encoding = 'LATIN-1')"
      ],
      "metadata": {
        "id": "K4PkwVqtbX7i",
        "trusted": true
      },
      "execution_count": 6,
      "outputs": []
    },
    {
      "cell_type": "code",
      "source": [
        "df.head()"
      ],
      "metadata": {
        "trusted": true,
        "id": "p1i82tflVMTE",
        "outputId": "b77fc779-0458-411e-9ede-8ce83cc48f56",
        "colab": {
          "base_uri": "https://localhost:8080/",
          "height": 394
        }
      },
      "execution_count": 7,
      "outputs": [
        {
          "output_type": "execute_result",
          "data": {
            "text/plain": [
              "   rank                    Youtuber  subscribers   video views  \\\n",
              "0     1                    T-Series    245000000  2.280000e+11   \n",
              "1     2              YouTube Movies    170000000  0.000000e+00   \n",
              "2     3                     MrBeast    166000000  2.836884e+10   \n",
              "3     4  Cocomelon - Nursery Rhymes    162000000  1.640000e+11   \n",
              "4     5                   SET India    159000000  1.480000e+11   \n",
              "\n",
              "           category                       Title  uploads        Country  \\\n",
              "0             Music                    T-Series    20082          India   \n",
              "1  Film & Animation               youtubemovies        1  United States   \n",
              "2     Entertainment                     MrBeast      741  United States   \n",
              "3         Education  Cocomelon - Nursery Rhymes      966  United States   \n",
              "4             Shows                   SET India   116536          India   \n",
              "\n",
              "  Abbreviation   channel_type  ...  subscribers_for_last_30_days  \\\n",
              "0           IN          Music  ...                     2000000.0   \n",
              "1           US          Games  ...                           NaN   \n",
              "2           US  Entertainment  ...                     8000000.0   \n",
              "3           US      Education  ...                     1000000.0   \n",
              "4           IN  Entertainment  ...                     1000000.0   \n",
              "\n",
              "   created_year  created_month  created_date  \\\n",
              "0        2006.0            Mar          13.0   \n",
              "1        2006.0            Mar           5.0   \n",
              "2        2012.0            Feb          20.0   \n",
              "3        2006.0            Sep           1.0   \n",
              "4        2006.0            Sep          20.0   \n",
              "\n",
              "   Gross tertiary education enrollment (%)    Population  Unemployment rate  \\\n",
              "0                                     28.1  1.366418e+09               5.36   \n",
              "1                                     88.2  3.282395e+08              14.70   \n",
              "2                                     88.2  3.282395e+08              14.70   \n",
              "3                                     88.2  3.282395e+08              14.70   \n",
              "4                                     28.1  1.366418e+09               5.36   \n",
              "\n",
              "   Urban_population   Latitude  Longitude  \n",
              "0       471031528.0  20.593684  78.962880  \n",
              "1       270663028.0  37.090240 -95.712891  \n",
              "2       270663028.0  37.090240 -95.712891  \n",
              "3       270663028.0  37.090240 -95.712891  \n",
              "4       471031528.0  20.593684  78.962880  \n",
              "\n",
              "[5 rows x 28 columns]"
            ],
            "text/html": [
              "\n",
              "  <div id=\"df-d666d198-2054-44f3-992e-d29fd35e3616\" class=\"colab-df-container\">\n",
              "    <div>\n",
              "<style scoped>\n",
              "    .dataframe tbody tr th:only-of-type {\n",
              "        vertical-align: middle;\n",
              "    }\n",
              "\n",
              "    .dataframe tbody tr th {\n",
              "        vertical-align: top;\n",
              "    }\n",
              "\n",
              "    .dataframe thead th {\n",
              "        text-align: right;\n",
              "    }\n",
              "</style>\n",
              "<table border=\"1\" class=\"dataframe\">\n",
              "  <thead>\n",
              "    <tr style=\"text-align: right;\">\n",
              "      <th></th>\n",
              "      <th>rank</th>\n",
              "      <th>Youtuber</th>\n",
              "      <th>subscribers</th>\n",
              "      <th>video views</th>\n",
              "      <th>category</th>\n",
              "      <th>Title</th>\n",
              "      <th>uploads</th>\n",
              "      <th>Country</th>\n",
              "      <th>Abbreviation</th>\n",
              "      <th>channel_type</th>\n",
              "      <th>...</th>\n",
              "      <th>subscribers_for_last_30_days</th>\n",
              "      <th>created_year</th>\n",
              "      <th>created_month</th>\n",
              "      <th>created_date</th>\n",
              "      <th>Gross tertiary education enrollment (%)</th>\n",
              "      <th>Population</th>\n",
              "      <th>Unemployment rate</th>\n",
              "      <th>Urban_population</th>\n",
              "      <th>Latitude</th>\n",
              "      <th>Longitude</th>\n",
              "    </tr>\n",
              "  </thead>\n",
              "  <tbody>\n",
              "    <tr>\n",
              "      <th>0</th>\n",
              "      <td>1</td>\n",
              "      <td>T-Series</td>\n",
              "      <td>245000000</td>\n",
              "      <td>2.280000e+11</td>\n",
              "      <td>Music</td>\n",
              "      <td>T-Series</td>\n",
              "      <td>20082</td>\n",
              "      <td>India</td>\n",
              "      <td>IN</td>\n",
              "      <td>Music</td>\n",
              "      <td>...</td>\n",
              "      <td>2000000.0</td>\n",
              "      <td>2006.0</td>\n",
              "      <td>Mar</td>\n",
              "      <td>13.0</td>\n",
              "      <td>28.1</td>\n",
              "      <td>1.366418e+09</td>\n",
              "      <td>5.36</td>\n",
              "      <td>471031528.0</td>\n",
              "      <td>20.593684</td>\n",
              "      <td>78.962880</td>\n",
              "    </tr>\n",
              "    <tr>\n",
              "      <th>1</th>\n",
              "      <td>2</td>\n",
              "      <td>YouTube Movies</td>\n",
              "      <td>170000000</td>\n",
              "      <td>0.000000e+00</td>\n",
              "      <td>Film &amp; Animation</td>\n",
              "      <td>youtubemovies</td>\n",
              "      <td>1</td>\n",
              "      <td>United States</td>\n",
              "      <td>US</td>\n",
              "      <td>Games</td>\n",
              "      <td>...</td>\n",
              "      <td>NaN</td>\n",
              "      <td>2006.0</td>\n",
              "      <td>Mar</td>\n",
              "      <td>5.0</td>\n",
              "      <td>88.2</td>\n",
              "      <td>3.282395e+08</td>\n",
              "      <td>14.70</td>\n",
              "      <td>270663028.0</td>\n",
              "      <td>37.090240</td>\n",
              "      <td>-95.712891</td>\n",
              "    </tr>\n",
              "    <tr>\n",
              "      <th>2</th>\n",
              "      <td>3</td>\n",
              "      <td>MrBeast</td>\n",
              "      <td>166000000</td>\n",
              "      <td>2.836884e+10</td>\n",
              "      <td>Entertainment</td>\n",
              "      <td>MrBeast</td>\n",
              "      <td>741</td>\n",
              "      <td>United States</td>\n",
              "      <td>US</td>\n",
              "      <td>Entertainment</td>\n",
              "      <td>...</td>\n",
              "      <td>8000000.0</td>\n",
              "      <td>2012.0</td>\n",
              "      <td>Feb</td>\n",
              "      <td>20.0</td>\n",
              "      <td>88.2</td>\n",
              "      <td>3.282395e+08</td>\n",
              "      <td>14.70</td>\n",
              "      <td>270663028.0</td>\n",
              "      <td>37.090240</td>\n",
              "      <td>-95.712891</td>\n",
              "    </tr>\n",
              "    <tr>\n",
              "      <th>3</th>\n",
              "      <td>4</td>\n",
              "      <td>Cocomelon - Nursery Rhymes</td>\n",
              "      <td>162000000</td>\n",
              "      <td>1.640000e+11</td>\n",
              "      <td>Education</td>\n",
              "      <td>Cocomelon - Nursery Rhymes</td>\n",
              "      <td>966</td>\n",
              "      <td>United States</td>\n",
              "      <td>US</td>\n",
              "      <td>Education</td>\n",
              "      <td>...</td>\n",
              "      <td>1000000.0</td>\n",
              "      <td>2006.0</td>\n",
              "      <td>Sep</td>\n",
              "      <td>1.0</td>\n",
              "      <td>88.2</td>\n",
              "      <td>3.282395e+08</td>\n",
              "      <td>14.70</td>\n",
              "      <td>270663028.0</td>\n",
              "      <td>37.090240</td>\n",
              "      <td>-95.712891</td>\n",
              "    </tr>\n",
              "    <tr>\n",
              "      <th>4</th>\n",
              "      <td>5</td>\n",
              "      <td>SET India</td>\n",
              "      <td>159000000</td>\n",
              "      <td>1.480000e+11</td>\n",
              "      <td>Shows</td>\n",
              "      <td>SET India</td>\n",
              "      <td>116536</td>\n",
              "      <td>India</td>\n",
              "      <td>IN</td>\n",
              "      <td>Entertainment</td>\n",
              "      <td>...</td>\n",
              "      <td>1000000.0</td>\n",
              "      <td>2006.0</td>\n",
              "      <td>Sep</td>\n",
              "      <td>20.0</td>\n",
              "      <td>28.1</td>\n",
              "      <td>1.366418e+09</td>\n",
              "      <td>5.36</td>\n",
              "      <td>471031528.0</td>\n",
              "      <td>20.593684</td>\n",
              "      <td>78.962880</td>\n",
              "    </tr>\n",
              "  </tbody>\n",
              "</table>\n",
              "<p>5 rows × 28 columns</p>\n",
              "</div>\n",
              "    <div class=\"colab-df-buttons\">\n",
              "\n",
              "  <div class=\"colab-df-container\">\n",
              "    <button class=\"colab-df-convert\" onclick=\"convertToInteractive('df-d666d198-2054-44f3-992e-d29fd35e3616')\"\n",
              "            title=\"Convert this dataframe to an interactive table.\"\n",
              "            style=\"display:none;\">\n",
              "\n",
              "  <svg xmlns=\"http://www.w3.org/2000/svg\" height=\"24px\" viewBox=\"0 -960 960 960\">\n",
              "    <path d=\"M120-120v-720h720v720H120Zm60-500h600v-160H180v160Zm220 220h160v-160H400v160Zm0 220h160v-160H400v160ZM180-400h160v-160H180v160Zm440 0h160v-160H620v160ZM180-180h160v-160H180v160Zm440 0h160v-160H620v160Z\"/>\n",
              "  </svg>\n",
              "    </button>\n",
              "\n",
              "  <style>\n",
              "    .colab-df-container {\n",
              "      display:flex;\n",
              "      gap: 12px;\n",
              "    }\n",
              "\n",
              "    .colab-df-convert {\n",
              "      background-color: #E8F0FE;\n",
              "      border: none;\n",
              "      border-radius: 50%;\n",
              "      cursor: pointer;\n",
              "      display: none;\n",
              "      fill: #1967D2;\n",
              "      height: 32px;\n",
              "      padding: 0 0 0 0;\n",
              "      width: 32px;\n",
              "    }\n",
              "\n",
              "    .colab-df-convert:hover {\n",
              "      background-color: #E2EBFA;\n",
              "      box-shadow: 0px 1px 2px rgba(60, 64, 67, 0.3), 0px 1px 3px 1px rgba(60, 64, 67, 0.15);\n",
              "      fill: #174EA6;\n",
              "    }\n",
              "\n",
              "    .colab-df-buttons div {\n",
              "      margin-bottom: 4px;\n",
              "    }\n",
              "\n",
              "    [theme=dark] .colab-df-convert {\n",
              "      background-color: #3B4455;\n",
              "      fill: #D2E3FC;\n",
              "    }\n",
              "\n",
              "    [theme=dark] .colab-df-convert:hover {\n",
              "      background-color: #434B5C;\n",
              "      box-shadow: 0px 1px 3px 1px rgba(0, 0, 0, 0.15);\n",
              "      filter: drop-shadow(0px 1px 2px rgba(0, 0, 0, 0.3));\n",
              "      fill: #FFFFFF;\n",
              "    }\n",
              "  </style>\n",
              "\n",
              "    <script>\n",
              "      const buttonEl =\n",
              "        document.querySelector('#df-d666d198-2054-44f3-992e-d29fd35e3616 button.colab-df-convert');\n",
              "      buttonEl.style.display =\n",
              "        google.colab.kernel.accessAllowed ? 'block' : 'none';\n",
              "\n",
              "      async function convertToInteractive(key) {\n",
              "        const element = document.querySelector('#df-d666d198-2054-44f3-992e-d29fd35e3616');\n",
              "        const dataTable =\n",
              "          await google.colab.kernel.invokeFunction('convertToInteractive',\n",
              "                                                    [key], {});\n",
              "        if (!dataTable) return;\n",
              "\n",
              "        const docLinkHtml = 'Like what you see? Visit the ' +\n",
              "          '<a target=\"_blank\" href=https://colab.research.google.com/notebooks/data_table.ipynb>data table notebook</a>'\n",
              "          + ' to learn more about interactive tables.';\n",
              "        element.innerHTML = '';\n",
              "        dataTable['output_type'] = 'display_data';\n",
              "        await google.colab.output.renderOutput(dataTable, element);\n",
              "        const docLink = document.createElement('div');\n",
              "        docLink.innerHTML = docLinkHtml;\n",
              "        element.appendChild(docLink);\n",
              "      }\n",
              "    </script>\n",
              "  </div>\n",
              "\n",
              "\n",
              "<div id=\"df-5a556e5d-1e51-44d2-a492-7856602d8456\">\n",
              "  <button class=\"colab-df-quickchart\" onclick=\"quickchart('df-5a556e5d-1e51-44d2-a492-7856602d8456')\"\n",
              "            title=\"Suggest charts\"\n",
              "            style=\"display:none;\">\n",
              "\n",
              "<svg xmlns=\"http://www.w3.org/2000/svg\" height=\"24px\"viewBox=\"0 0 24 24\"\n",
              "     width=\"24px\">\n",
              "    <g>\n",
              "        <path d=\"M19 3H5c-1.1 0-2 .9-2 2v14c0 1.1.9 2 2 2h14c1.1 0 2-.9 2-2V5c0-1.1-.9-2-2-2zM9 17H7v-7h2v7zm4 0h-2V7h2v10zm4 0h-2v-4h2v4z\"/>\n",
              "    </g>\n",
              "</svg>\n",
              "  </button>\n",
              "\n",
              "<style>\n",
              "  .colab-df-quickchart {\n",
              "      --bg-color: #E8F0FE;\n",
              "      --fill-color: #1967D2;\n",
              "      --hover-bg-color: #E2EBFA;\n",
              "      --hover-fill-color: #174EA6;\n",
              "      --disabled-fill-color: #AAA;\n",
              "      --disabled-bg-color: #DDD;\n",
              "  }\n",
              "\n",
              "  [theme=dark] .colab-df-quickchart {\n",
              "      --bg-color: #3B4455;\n",
              "      --fill-color: #D2E3FC;\n",
              "      --hover-bg-color: #434B5C;\n",
              "      --hover-fill-color: #FFFFFF;\n",
              "      --disabled-bg-color: #3B4455;\n",
              "      --disabled-fill-color: #666;\n",
              "  }\n",
              "\n",
              "  .colab-df-quickchart {\n",
              "    background-color: var(--bg-color);\n",
              "    border: none;\n",
              "    border-radius: 50%;\n",
              "    cursor: pointer;\n",
              "    display: none;\n",
              "    fill: var(--fill-color);\n",
              "    height: 32px;\n",
              "    padding: 0;\n",
              "    width: 32px;\n",
              "  }\n",
              "\n",
              "  .colab-df-quickchart:hover {\n",
              "    background-color: var(--hover-bg-color);\n",
              "    box-shadow: 0 1px 2px rgba(60, 64, 67, 0.3), 0 1px 3px 1px rgba(60, 64, 67, 0.15);\n",
              "    fill: var(--button-hover-fill-color);\n",
              "  }\n",
              "\n",
              "  .colab-df-quickchart-complete:disabled,\n",
              "  .colab-df-quickchart-complete:disabled:hover {\n",
              "    background-color: var(--disabled-bg-color);\n",
              "    fill: var(--disabled-fill-color);\n",
              "    box-shadow: none;\n",
              "  }\n",
              "\n",
              "  .colab-df-spinner {\n",
              "    border: 2px solid var(--fill-color);\n",
              "    border-color: transparent;\n",
              "    border-bottom-color: var(--fill-color);\n",
              "    animation:\n",
              "      spin 1s steps(1) infinite;\n",
              "  }\n",
              "\n",
              "  @keyframes spin {\n",
              "    0% {\n",
              "      border-color: transparent;\n",
              "      border-bottom-color: var(--fill-color);\n",
              "      border-left-color: var(--fill-color);\n",
              "    }\n",
              "    20% {\n",
              "      border-color: transparent;\n",
              "      border-left-color: var(--fill-color);\n",
              "      border-top-color: var(--fill-color);\n",
              "    }\n",
              "    30% {\n",
              "      border-color: transparent;\n",
              "      border-left-color: var(--fill-color);\n",
              "      border-top-color: var(--fill-color);\n",
              "      border-right-color: var(--fill-color);\n",
              "    }\n",
              "    40% {\n",
              "      border-color: transparent;\n",
              "      border-right-color: var(--fill-color);\n",
              "      border-top-color: var(--fill-color);\n",
              "    }\n",
              "    60% {\n",
              "      border-color: transparent;\n",
              "      border-right-color: var(--fill-color);\n",
              "    }\n",
              "    80% {\n",
              "      border-color: transparent;\n",
              "      border-right-color: var(--fill-color);\n",
              "      border-bottom-color: var(--fill-color);\n",
              "    }\n",
              "    90% {\n",
              "      border-color: transparent;\n",
              "      border-bottom-color: var(--fill-color);\n",
              "    }\n",
              "  }\n",
              "</style>\n",
              "\n",
              "  <script>\n",
              "    async function quickchart(key) {\n",
              "      const quickchartButtonEl =\n",
              "        document.querySelector('#' + key + ' button');\n",
              "      quickchartButtonEl.disabled = true;  // To prevent multiple clicks.\n",
              "      quickchartButtonEl.classList.add('colab-df-spinner');\n",
              "      try {\n",
              "        const charts = await google.colab.kernel.invokeFunction(\n",
              "            'suggestCharts', [key], {});\n",
              "      } catch (error) {\n",
              "        console.error('Error during call to suggestCharts:', error);\n",
              "      }\n",
              "      quickchartButtonEl.classList.remove('colab-df-spinner');\n",
              "      quickchartButtonEl.classList.add('colab-df-quickchart-complete');\n",
              "    }\n",
              "    (() => {\n",
              "      let quickchartButtonEl =\n",
              "        document.querySelector('#df-5a556e5d-1e51-44d2-a492-7856602d8456 button');\n",
              "      quickchartButtonEl.style.display =\n",
              "        google.colab.kernel.accessAllowed ? 'block' : 'none';\n",
              "    })();\n",
              "  </script>\n",
              "</div>\n",
              "\n",
              "    </div>\n",
              "  </div>\n"
            ],
            "application/vnd.google.colaboratory.intrinsic+json": {
              "type": "dataframe",
              "variable_name": "df"
            }
          },
          "metadata": {},
          "execution_count": 7
        }
      ]
    },
    {
      "cell_type": "code",
      "source": [
        "# Getting an an overiview of the data\n",
        "\n",
        "# df = df.convert_dtypes()\n",
        "\n",
        "df.info()"
      ],
      "metadata": {
        "id": "RC872rYdbX7m",
        "outputId": "acd9682a-ebd1-419c-c573-1b66f9e8815d",
        "trusted": true,
        "colab": {
          "base_uri": "https://localhost:8080/"
        }
      },
      "execution_count": 8,
      "outputs": [
        {
          "output_type": "stream",
          "name": "stdout",
          "text": [
            "<class 'pandas.core.frame.DataFrame'>\n",
            "RangeIndex: 995 entries, 0 to 994\n",
            "Data columns (total 28 columns):\n",
            " #   Column                                   Non-Null Count  Dtype  \n",
            "---  ------                                   --------------  -----  \n",
            " 0   rank                                     995 non-null    int64  \n",
            " 1   Youtuber                                 995 non-null    object \n",
            " 2   subscribers                              995 non-null    int64  \n",
            " 3   video views                              995 non-null    float64\n",
            " 4   category                                 949 non-null    object \n",
            " 5   Title                                    995 non-null    object \n",
            " 6   uploads                                  995 non-null    int64  \n",
            " 7   Country                                  873 non-null    object \n",
            " 8   Abbreviation                             873 non-null    object \n",
            " 9   channel_type                             965 non-null    object \n",
            " 10  video_views_rank                         994 non-null    float64\n",
            " 11  country_rank                             879 non-null    float64\n",
            " 12  channel_type_rank                        962 non-null    float64\n",
            " 13  video_views_for_the_last_30_days         939 non-null    float64\n",
            " 14  lowest_monthly_earnings                  995 non-null    float64\n",
            " 15  highest_monthly_earnings                 995 non-null    float64\n",
            " 16  lowest_yearly_earnings                   995 non-null    float64\n",
            " 17  highest_yearly_earnings                  995 non-null    float64\n",
            " 18  subscribers_for_last_30_days             658 non-null    float64\n",
            " 19  created_year                             990 non-null    float64\n",
            " 20  created_month                            990 non-null    object \n",
            " 21  created_date                             990 non-null    float64\n",
            " 22  Gross tertiary education enrollment (%)  872 non-null    float64\n",
            " 23  Population                               872 non-null    float64\n",
            " 24  Unemployment rate                        872 non-null    float64\n",
            " 25  Urban_population                         872 non-null    float64\n",
            " 26  Latitude                                 872 non-null    float64\n",
            " 27  Longitude                                872 non-null    float64\n",
            "dtypes: float64(18), int64(3), object(7)\n",
            "memory usage: 217.8+ KB\n"
          ]
        }
      ]
    },
    {
      "cell_type": "markdown",
      "source": [
        "### Cleaning the dataset"
      ],
      "metadata": {
        "id": "VLIAlpIgbX7t"
      }
    },
    {
      "cell_type": "code",
      "source": [
        "# 1. Standardize the string case to lower\n",
        "\n",
        "for i in df.columns :\n",
        "    if df[i].dtype == 'O' :\n",
        "        df[i] = df[i].str.lower()\n",
        "\n",
        "df.head()"
      ],
      "metadata": {
        "id": "zRHxxSFrbX7v",
        "trusted": true
      },
      "execution_count": null,
      "outputs": []
    },
    {
      "cell_type": "code",
      "source": [
        "# 2. Drop duplicate rows\n",
        "\n",
        "df.drop_duplicates(inplace=True)\n",
        "\n",
        "df.shape"
      ],
      "metadata": {
        "id": "hBy86Z7_bX7z",
        "trusted": true
      },
      "execution_count": null,
      "outputs": []
    },
    {
      "cell_type": "code",
      "source": [
        "# 3. Finding missing values\n",
        "\n",
        "df.isnull().sum() / len(df) * 100"
      ],
      "metadata": {
        "scrolled": true,
        "id": "i9uYIn7-bX72",
        "trusted": true
      },
      "execution_count": null,
      "outputs": []
    },
    {
      "cell_type": "markdown",
      "source": [
        "`subscribers_for_last_30_days` has 33% data missing.\n",
        "\n",
        "Also, we notice several features that are not so useful.\n",
        "\n",
        "Dropping redundant features"
      ],
      "metadata": {
        "id": "BPopm0ZMbX75"
      }
    },
    {
      "cell_type": "code",
      "source": [
        "df.drop(['Abbreviation',\n",
        "         'video_views_for_the_last_30_days',\n",
        "         'subscribers_for_last_30_days',\n",
        "         'created_month',\n",
        "         'created_date'],\n",
        "          inplace=True, axis=1)\n",
        "\n",
        "df.isnull().sum() / len(df) * 100"
      ],
      "metadata": {
        "id": "fiD1KoMQbX77",
        "trusted": true
      },
      "execution_count": null,
      "outputs": []
    },
    {
      "cell_type": "markdown",
      "source": [
        "There are ~12% channels with `NaN` in `country` column.\n",
        "\n",
        "Also, other country dependent metrics have ~12% missing values, which signifies they should be missing in the same rows."
      ],
      "metadata": {
        "id": "x8DnoZOW2fPy"
      }
    },
    {
      "cell_type": "code",
      "source": [
        "df.drop(df[df['Country'].isnull()].index , inplace=True)\n",
        "\n",
        "df.isnull().sum() / len(df) * 100"
      ],
      "metadata": {
        "scrolled": true,
        "id": "d75-BlJUbX79",
        "trusted": true
      },
      "execution_count": null,
      "outputs": []
    },
    {
      "cell_type": "code",
      "source": [
        "df.shape"
      ],
      "metadata": {
        "id": "fOB0ic55bX7-",
        "trusted": true
      },
      "execution_count": null,
      "outputs": []
    },
    {
      "cell_type": "markdown",
      "source": [
        "**Looking at the difference between the columns 'channel_type' and 'category'.**\n",
        "\n",
        "That might be useful, since both columns can be used for similar analyses."
      ],
      "metadata": {
        "id": "-ilVMGvLbX8G"
      }
    },
    {
      "cell_type": "code",
      "source": [
        "# Looking at the difference between channel type and channel category\n",
        "\n",
        "unique_categories = df['category'].unique()\n",
        "\n",
        "unique_channel_types = df['channel_type'].unique()\n",
        "\n",
        "print(\"Unique Categories:\", unique_categories)\n",
        "\n",
        "print(\"\\n\\nUnique Channel Types:\", unique_channel_types)"
      ],
      "metadata": {
        "id": "W2d5EtJjbX8H",
        "trusted": true
      },
      "execution_count": null,
      "outputs": []
    },
    {
      "cell_type": "code",
      "source": [
        "print(df['category'].isnull().sum())\n",
        "\n",
        "print(df['channel_type'].isnull().sum())"
      ],
      "metadata": {
        "id": "RKeHSd3TbX8I",
        "trusted": true
      },
      "execution_count": null,
      "outputs": []
    },
    {
      "cell_type": "markdown",
      "source": [
        "**We can decide to go with 'channel_type' to use in the analysis due to it having lesser categories, allowing for better detail per categories.**"
      ],
      "metadata": {
        "id": "RshbGmrhbX8J"
      }
    },
    {
      "cell_type": "code",
      "source": [
        "df.drop('category', axis=1, inplace=True)\n",
        "\n",
        "df.drop(df[df['channel_type'].isnull()].index , inplace=True)\n",
        "\n",
        "df.isnull().sum()"
      ],
      "metadata": {
        "id": "1PBSOCDXbX8K",
        "trusted": true
      },
      "execution_count": null,
      "outputs": []
    },
    {
      "cell_type": "code",
      "source": [
        "df.describe()"
      ],
      "metadata": {
        "id": "zm2n5xAUgUGA",
        "trusted": true
      },
      "execution_count": null,
      "outputs": []
    },
    {
      "cell_type": "markdown",
      "source": [
        "**We use the average of highest yearly earnings and lowest yearly earnings as a proxy for yearly earnings**"
      ],
      "metadata": {
        "id": "CTyihGfsbX8O"
      }
    },
    {
      "cell_type": "code",
      "source": [
        "# We don't have data for every year so we decide to average the highest and lowest yearly earnings estimate\n",
        "# Create a new column 'yearly_earnings' with the average of 'lowest_yearly_earnings' and 'highest_yearly_earnings'\n",
        "\n",
        "df['yearly_earnings'] = (df['lowest_yearly_earnings'] + df['highest_yearly_earnings']) // 2"
      ],
      "metadata": {
        "id": "yFDQZbwMbX8P",
        "trusted": true
      },
      "execution_count": null,
      "outputs": []
    },
    {
      "cell_type": "markdown",
      "source": [
        "# Relationship Between Views and Subscribers\n",
        "Here we will be looking at the relationship between views and subscribers"
      ],
      "metadata": {
        "id": "hYsYfw8QbX9I"
      }
    },
    {
      "cell_type": "code",
      "source": [
        "plt.figure(figsize=[14, 6])\n",
        "# Create the scatter plot\n",
        "sns.scatterplot(\n",
        "    x=df[\"subscribers\"],\n",
        "    y=df[\"video views\"],\n",
        "    hue=df[\"channel_type\"],    # Color-coding points based on the \"category\" column\n",
        "    size=df[\"video views\"] # Adjusting point sizes based on the \"video views\" column\n",
        ")\n",
        "\n",
        "# Set labels and title\n",
        "plt.xlabel(\"Subscribers\")\n",
        "plt.ylabel(\"Views\")\n",
        "plt.title(\"Relationship between Views and Subscribers\")\n",
        "\n",
        "# Show the plot\n",
        "plt.show()"
      ],
      "metadata": {
        "id": "6XPwqnzwbX9O",
        "trusted": true
      },
      "execution_count": null,
      "outputs": []
    },
    {
      "cell_type": "markdown",
      "source": [
        "It is shown to be linerarly correlated, which seems reasonable, and gives us a clue that the data could be reliable."
      ],
      "metadata": {
        "id": "3T_Vu2WGbX9Q"
      }
    },
    {
      "cell_type": "markdown",
      "source": [
        "**Scatterplot showing the relationship between earnings and subscribers**"
      ],
      "metadata": {
        "id": "6vzDi3pUbX9R"
      }
    },
    {
      "cell_type": "code",
      "source": [
        "plt.figure(figsize=[14, 6])\n",
        "# Create the scatter plot\n",
        "sns.scatterplot(\n",
        "    x=df[\"subscribers\"],\n",
        "    y=df[\"yearly_earnings\"],\n",
        "    hue=df[\"channel_type\"],    # Color-coding points based on the \"category\" column\n",
        "    size=df[\"yearly_earnings\"] # Adjusting point sizes based on the \"video views\" column\n",
        ")\n",
        "\n",
        "# Set labels and title\n",
        "plt.xlabel(\"Subscribers\")\n",
        "plt.ylabel(\"Earnings\")\n",
        "plt.title(\"Relationship between Earnings and Subscribers\")\n",
        "\n",
        "# Show the plot\n",
        "plt.show()"
      ],
      "metadata": {
        "id": "QLj8O5dVbX9S",
        "trusted": true
      },
      "execution_count": null,
      "outputs": []
    },
    {
      "cell_type": "code",
      "source": [
        "plt.figure(figsize=[14, 6])\n",
        "# Create the scatter plot\n",
        "sns.scatterplot(\n",
        "    x=df[\"video views\"],\n",
        "    y=df[\"yearly_earnings\"],\n",
        "    hue=df[\"channel_type\"],    # Color-coding points based on the \"category\" column\n",
        "    size=df[\"yearly_earnings\"] # Adjusting point sizes based on the \"video views\" column\n",
        ")\n",
        "\n",
        "# Set labels and title\n",
        "plt.xlabel(\"Views\")\n",
        "plt.ylabel(\"Earnings\")\n",
        "plt.title(\"Relationship between Earnings and Subscribers\")\n",
        "\n",
        "# Show the plot\n",
        "plt.show()"
      ],
      "metadata": {
        "trusted": true,
        "id": "fGR4xnUzVMTV"
      },
      "execution_count": null,
      "outputs": []
    },
    {
      "cell_type": "markdown",
      "source": [
        "# Distribution of channels by their types"
      ],
      "metadata": {
        "id": "SCWQaf-tbX9W"
      }
    },
    {
      "cell_type": "code",
      "source": [
        "# Calculating the count of each category and sorting them\n",
        "channel_type = df['channel_type'].value_counts().sort_values(ascending=False)\n",
        "\n",
        "# Creating a pie chart using Matplotlib\n",
        "plt.figure(figsize=(8, 8))\n",
        "plt.pie(channel_type.values, labels=channel_type.index, autopct='%1.1f%%', textprops={'fontsize': 8})\n",
        "plt.title(\"Distribution of channel_types\", fontsize=16)\n",
        "\n",
        "# Show the plot\n",
        "plt.show()"
      ],
      "metadata": {
        "id": "5JQUzk4abX9X",
        "trusted": true
      },
      "execution_count": null,
      "outputs": []
    },
    {
      "cell_type": "code",
      "source": [
        "# Get the top 10 channel types\n",
        "top_10_channel_types = df['channel_type'].value_counts().head(10)\n",
        "\n",
        "# Create a countplot with seaborn\n",
        "plt.figure(figsize=(10, 5))  # Adjust the figure size as per your preference\n",
        "sns.countplot(\n",
        "    data=df,\n",
        "    x='channel_type',\n",
        "    order=top_10_channel_types.index  # Order the categories based on their counts\n",
        ")\n",
        "\n",
        "# Add title and labels\n",
        "plt.title('10 Most Popular Channel Categories')\n",
        "plt.xlabel('channel_type')\n",
        "plt.ylabel('Amount of Channels')\n",
        "\n",
        "# Rotate x-axis labels for better readability if needed\n",
        "plt.xticks(rotation=45)\n",
        "\n",
        "# Display the plot\n",
        "plt.show()"
      ],
      "metadata": {
        "id": "IDXjyarks8bB",
        "trusted": true
      },
      "execution_count": null,
      "outputs": []
    },
    {
      "cell_type": "markdown",
      "source": [
        "# Category-Wise Average Subscribers Growth\n",
        "We see that entertainment and music are popular, but which categories are growing the fastest on average?"
      ],
      "metadata": {
        "id": "b50vdi6pbX9b"
      }
    },
    {
      "cell_type": "code",
      "source": [
        "# Calculate Channel Age\n",
        "df['channel_age'] = 2023 - df['created_year']\n",
        "\n",
        "# Calculate Average Subscribers growth per Year (asgpy)\n",
        "df['annual_subscriber_growth'] = df['subscribers']/df['channel_age']"
      ],
      "metadata": {
        "id": "3UpApJ-WbX9c",
        "trusted": true
      },
      "execution_count": null,
      "outputs": []
    },
    {
      "cell_type": "code",
      "source": [
        "# Calculate the percentage growth for each category\n",
        "channel_type_growth = df.groupby('channel_type')['annual_subscriber_growth'].mean().reset_index()\n",
        "\n",
        "channel_type_growth.sort_values(by='annual_subscriber_growth', ascending=False)"
      ],
      "metadata": {
        "id": "LhMMBW4i6-oF",
        "trusted": true
      },
      "execution_count": null,
      "outputs": []
    },
    {
      "cell_type": "code",
      "source": [
        "# Create the bar plot with Seaborn\n",
        "plt.figure(figsize=(10, 6))  # Adjust the figure size as per your preference\n",
        "sns.barplot(\n",
        "    data=channel_type_growth,\n",
        "    x='channel_type',\n",
        "    y='annual_subscriber_growth',\n",
        ")\n",
        "\n",
        "# Add title and labels\n",
        "plt.title('channel_type-Wise Average Subscribers Growth')\n",
        "plt.xlabel('Channel Type')\n",
        "plt.ylabel('Annual_Subscriber_Growth')\n",
        "\n",
        "# Rotate x-axis labels for better readability\n",
        "plt.xticks(rotation=45)\n",
        "\n",
        "# Display the plot\n",
        "plt.show()"
      ],
      "metadata": {
        "id": "EZAt5TyMxwOr",
        "trusted": true
      },
      "execution_count": null,
      "outputs": []
    },
    {
      "cell_type": "markdown",
      "source": [
        "# Highest Yearly Earnings Average by channel_type"
      ],
      "metadata": {
        "id": "hHUaxGnEbX9f"
      }
    },
    {
      "cell_type": "code",
      "source": [
        "# Group by 'category' and calculate the mean of yearly earnings for each channel_type\n",
        "category_earnings = df.groupby('channel_type')['yearly_earnings'].mean().reset_index()\n",
        "\n",
        "# Sort the categories based on yearly earnings in ascending order\n",
        "sorted_categories_earnings = category_earnings.sort_values(by='yearly_earnings', ascending=False)\n",
        "\n",
        "# Choose the top 10 categories to display\n",
        "top_categories_earnings = sorted_categories_earnings.head(10)"
      ],
      "metadata": {
        "id": "OngFTP82DfAn",
        "trusted": true
      },
      "execution_count": null,
      "outputs": []
    },
    {
      "cell_type": "code",
      "source": [
        "# Create the bar plot with Seaborn\n",
        "plt.figure(figsize=(12, 6))  # Adjust the figure size as per your preference\n",
        "sns.barplot(\n",
        "    data=top_categories_earnings,\n",
        "    x='channel_type',\n",
        "    y='yearly_earnings',\n",
        ")\n",
        "\n",
        "# Add title and labels\n",
        "plt.title('Yearly Earnings Average by type')\n",
        "plt.xlabel('channel_type')\n",
        "plt.ylabel('Highest Yearly Earnings')\n",
        "\n",
        "# Display the plot\n",
        "plt.show()"
      ],
      "metadata": {
        "id": "YAdcOsWJzLr8",
        "trusted": true
      },
      "execution_count": null,
      "outputs": []
    },
    {
      "cell_type": "markdown",
      "source": [
        "### Geographical Analysis\n",
        "Now we can take a look at another view of the world of youtube top channels.\n",
        "\n",
        "Literally talking about the world!\n",
        "\n",
        "What kind of interesting insights can we get by looking at the relationship between the location of a certain top-performing youtube channel and its other characteristics?\n",
        "\n",
        "Let's take a look at that."
      ],
      "metadata": {
        "id": "qMQ1biVYEvIO"
      }
    },
    {
      "cell_type": "code",
      "source": [
        "df_geo_subscribers = df.groupby('Country')['subscribers'].mean().reset_index()\n",
        "\n",
        "df_geo_subscribers.sort_values( 'subscribers', inplace=True, ascending=False )\n",
        "\n",
        "df_geo_subscribers = df_geo_subscribers.head(20)"
      ],
      "metadata": {
        "id": "WDH6uuSlFlPq",
        "trusted": true
      },
      "execution_count": null,
      "outputs": []
    },
    {
      "cell_type": "code",
      "source": [
        "plt.figure(figsize=(15, 6))\n",
        "sns.barplot(\n",
        "    data=df_geo_subscribers,\n",
        "    x='Country',\n",
        "    y='subscribers')\n",
        "\n",
        "# Add title and labels\n",
        "plt.title('Average number of Subscribers by Country')\n",
        "plt.xlabel('Country')\n",
        "plt.ylabel('Average number of Subscribers')\n",
        "\n",
        "# Rotate x-axis labels for better readability if needed\n",
        "plt.xticks(rotation=90)\n",
        "\n",
        "# Show the plot\n",
        "plt.show()"
      ],
      "metadata": {
        "id": "3jXNG2YGHcZR",
        "trusted": true
      },
      "execution_count": null,
      "outputs": []
    },
    {
      "cell_type": "code",
      "source": [
        "import plotly.express as px\n",
        "\n",
        "px.choropleth(df_geo_subscribers,\n",
        "                    locations=\"Country\",\n",
        "                    locationmode='country names',\n",
        "                    color='subscribers',\n",
        "                    title=\"Average number of Subscribers by Country\")"
      ],
      "metadata": {
        "id": "A-sHL7QYE86N",
        "trusted": true
      },
      "execution_count": null,
      "outputs": []
    },
    {
      "cell_type": "markdown",
      "source": [
        "The comparasion of the average of subscribers between countries show us no relevant differentiation between them in the realm of high-achieving youtube channels.\n",
        "\n",
        "However, we can have a more complete view of the situation by looking at more than just the mean.\n",
        "\n",
        "Analyzing the quantity of channels in each country, we can better analyze how biased this dataset may be regarding sample sizes for each country."
      ],
      "metadata": {
        "id": "45MHvsB_L2nA"
      }
    },
    {
      "cell_type": "code",
      "source": [
        "df_geo_count = df.groupby('Country')['subscribers'].count().reset_index()\n",
        "df_geo_count = df_geo_count.rename(columns = {'subscribers': \"Count of channels\"})\n",
        "\n",
        "px.choropleth(df_geo_count,\n",
        "                    locations=\"Country\",\n",
        "                    locationmode='country names',\n",
        "                    color='Count of channels',\n",
        "                    color_continuous_scale=px.colors.sequential.Emrld ,\n",
        "                    title=\"Amount of channels per Country\")"
      ],
      "metadata": {
        "id": "0KzPQJeMJeCl",
        "trusted": true
      },
      "execution_count": null,
      "outputs": []
    },
    {
      "cell_type": "markdown",
      "source": [
        "US, Brazil and India contain the majority of the channels.\n",
        "\n",
        "All others seem to be represented with some entries, but they are just a few."
      ],
      "metadata": {
        "id": "LoUZY6TNMWxg"
      }
    },
    {
      "cell_type": "markdown",
      "source": [
        "# Conclusion\n",
        "- The data indicates that 'Animals' are the fastest growing categories.\n",
        "\n",
        "- They are also the fastest in the context of earning.\n",
        "\n",
        "- But among the high-performing channels, music and entertainment categories stand out as the more dominant ones.\n",
        "\n",
        "- So 'Music' or 'Entertainment' would be a strong category to go with if aiming for a popular YouTube channel in the longer run.\n",
        "\n",
        "- Our analysis revealed a notable concentration of channels in the dataset from the United States and India.\n",
        "\n",
        "- The results could be impacted by insufficient data as we only have few rows per category.\n",
        "\n",
        "- Also, the dataset may not be fully representative of the diverse audience behaviors present in every different geographical location."
      ],
      "metadata": {
        "id": "45dbGEyibX9l"
      }
    }
  ]
}